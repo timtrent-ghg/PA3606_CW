{
 "cells": [
  {
   "cell_type": "markdown",
   "id": "fecede64-eb07-45a3-9f83-a507b84b35bd",
   "metadata": {},
   "source": [
    "## PA3606 UNIT 2: Climate Physics\n",
    "# Computer Workshop 1: The Greenhouse Effect"
   ]
  },
  {
   "cell_type": "markdown",
   "id": "6bbd28fa-87a5-4adc-80ca-f8ce58270e1f",
   "metadata": {},
   "source": [
    "#### Purpose of these workshops\n",
    "For Unit 2 of PA3606 we will have 2 computer workshops which you should think of as guided lectures. There will be no expectation for you to write lots of code, rather the objectives are to:\n",
    "1. Introduce you to the Jupyter environment\n",
    "2. learn how to put together basic workflow to analyse data\n",
    "3. Gain experience working with blocks of python code\n",
    "4. Use knowledge from our lectures to interpret results \n",
    "\n",
    "#### Python Libraries\n",
    "For this computer workshsop we will work with only 2 python libraries:\n",
    "1. **NumPy** (https://numpy.org/): _\"NumPy is the fundamental package for scientific computing in Python. It is a Python library that provides a multidimensional array object, various derived objects (such as masked arrays and matrices), and an assortment of routines for fast operations on arrays, including mathematical, logical, shape manipulation, sorting, selecting, I/O, discrete Fourier transforms, basic linear algebra, basic statistical operations, random simulation and much more\"_. We will use this for most of our math functions\n",
    "2. **Matplotlib** (https://matplotlib.org/): _\"Matplotlib is a comprehensive library for creating static, animated, and interactive visualizations in Python. Matplotlib makes easy things easy and hard things possible\"_. We will use this library to visualise the contents of data files and the results from the analyses we perform on these data.\n"
   ]
  },
  {
   "cell_type": "markdown",
   "id": "0e09838c-e4ef-4bd2-a86e-448e67c55a53",
   "metadata": {},
   "source": [
    "***\n",
    "### Todays aims and objectives\n",
    "Over the next hour we are going to explore fundemental of climate balance concept we met in Lecture 1:\n",
    "#### $energy\\ in = energy\\ out$\n",
    "\n",
    "We are going to look at how this balance controls temeprature using simple models, and investigate how anthroprogenic emissions impacts the balance and relate this back to climate change. \n",
    "\n",
    "lets begin with looking at a simple model of the Earth Climate System:\n"
   ]
  },
  {
   "cell_type": "markdown",
   "id": "cd5bbfcf-ceb3-479c-b09a-6475417f2a19",
   "metadata": {},
   "source": [
    "![simple 0D model schematic](img/zero_dim_ebm_visual.png)"
   ]
  },
  {
   "cell_type": "markdown",
   "id": "aac433da-d3e9-4575-b123-c0f916d486f4",
   "metadata": {},
   "source": [
    "This is our conceptual model for estimating planetary average temperature. We can use the models we will look at today for any planet, though today we will soley focus on Earth or Earth-like planets. Lets begin by defining the terms and assumptions in our model. "
   ]
  },
  {
   "cell_type": "markdown",
   "id": "1959a0b9-e891-458e-973a-c017077d483b",
   "metadata": {},
   "source": [
    "![bread down of ASR](img/zero_dim_ebm_visual_maths.png)"
   ]
  },
  {
   "cell_type": "markdown",
   "id": "d8023c32-5023-4221-812d-0d8ff30dcc15",
   "metadata": {},
   "source": [
    "From this we can define the our fist term for the for the Arriving Short Wave Radiation (**ASR**):\n",
    "### $ASR = \\pi R_{E}^{2} S(1- \\alpha)$ \n",
    "\n",
    "Where $R_{E}$ is the radius of the Earth, $S$ is the solar constant (see lecture 2), and $\\alpha$ is the average albedo for Earth."
   ]
  },
  {
   "cell_type": "markdown",
   "id": "a5bee188-2207-4843-987b-f2ea3f2fb39b",
   "metadata": {},
   "source": [
    "![albedo explanation](img/albedo_explanation.png)"
   ]
  },
  {
   "cell_type": "markdown",
   "id": "6fc460e7-1540-4219-930d-1324b6ee5669",
   "metadata": {},
   "source": [
    "![outgoing longwave radiation assumptions](img/zero_dim_ebm_visual_maths_step2.png)"
   ]
  },
  {
   "cell_type": "markdown",
   "id": "e7d40305-d443-47cd-b53e-ced0aaaf6287",
   "metadata": {},
   "source": [
    "Next we can write a term for the Outgoing Longwave Radiation (**OLR**):\n",
    "### $OLR = 4\\pi R_{E}^{2}\\sigma T_{eq}^{4}$\n",
    "\n",
    "Where $R_{E}$ is the radius of the Earth, $\\sigma$ is the Stephan-Boltzmann constant, and $T_{eq}$ is the equalibrium temperature (the blackbody temperature expected from solar heating alone) for the Earth. Using these definitions for ASR and OLR we can derive an expression for the planetary equalibrium temperature. This is our first model and this is known as the zero dimensional energy balance model: "
   ]
  },
  {
   "cell_type": "markdown",
   "id": "17b32368-1f2f-4fb2-9f89-36083868adc4",
   "metadata": {},
   "source": [
    "![derive 0d ebm](img/zero_dim_ebm_derive.png)"
   ]
  },
  {
   "cell_type": "markdown",
   "id": "ebe58fba-5bd0-4ec4-864f-009b86b67427",
   "metadata": {},
   "source": [
    "### Python version of the Zero Dimensional Energy Balance Model"
   ]
  },
  {
   "cell_type": "code",
   "execution_count": 80,
   "id": "3eea249d-320a-46c5-abf0-c130830b2f27",
   "metadata": {},
   "outputs": [],
   "source": [
    "# lets start by loading the python librarues we will need for this session\n",
    "import numpy as np\n",
    "import matplotlib.pyplot as plt"
   ]
  },
  {
   "cell_type": "code",
   "execution_count": 81,
   "id": "99a8a89c-a15e-4c08-81f5-991efc051df0",
   "metadata": {},
   "outputs": [],
   "source": [
    "def zero_dimensional_ebm(S,alpha):\n",
    "    \"\"\" our first climate model, the zero dimensional energy balance model.\n",
    "    inputs:  S     -> solar constant (W/m^2)\n",
    "             alpha -> albedo (unitless)\n",
    "             \n",
    "    outputs: Teq  -> planetary equalibrium temperaturein (K)\n",
    "    \"\"\"\n",
    "    # define constants\n",
    "    sigma = 5.67e-8 # W m-2 k-4 Stefan-Boltzmann\n",
    "    \n",
    "    # calculate and return equalibrium temperature\n",
    "    return ((S*(1-alpha))/(4*sigma))**0.25 "
   ]
  },
  {
   "cell_type": "markdown",
   "id": "5ccb9098-08a7-484b-be7e-0edd2b6b914e",
   "metadata": {},
   "source": [
    "Lets try out our model to see how it performs. First lets make some assumptions:\n",
    "1. the average albedo for Earth is 0.3\n",
    "2. the solar constant is 1361 W/m$^{2}$"
   ]
  },
  {
   "cell_type": "code",
   "execution_count": 82,
   "id": "e213adda-1be3-4efb-aa17-aebc4693b77a",
   "metadata": {},
   "outputs": [],
   "source": [
    "# claculate the equalibrium temperature usin\n",
    "Teq = zero_dimensional_ebm(1361,0.3)"
   ]
  },
  {
   "cell_type": "markdown",
   "id": "3aaa1e40-74b7-4f57-aa1a-e04ecda58f51",
   "metadata": {},
   "source": [
    "Now we will pront out the result. When we want to print text out to sceen or a file, the format of the variable we are printing is known as a string. In Python we do this using the print command with the string variable placed between qutation marks inside parentheses:\n",
    "\n",
    "```python\n",
    "print(\"hello world\")\n",
    "```\n",
    "Now the result from our model output is a number, if we want to place this inside a string we can use a method known as 'f-string'. This allows to palce the number in to the string and format it with minimal code. For an f-string an 'f' is placed before the quotation marks and the variable you want to insert is placed between braces {}. To format the variable placed in the braces you ad a colon (:) and add the formatting syntax to the right of the colon. In our example below we '0.2f', this tells the interpreter that our variables is a float and that we want to round it to 2 decimal places:   "
   ]
  },
  {
   "cell_type": "code",
   "execution_count": 83,
   "id": "0a40612e-2882-4a4c-84e1-182e397a99f0",
   "metadata": {},
   "outputs": [
    {
     "name": "stdout",
     "output_type": "stream",
     "text": [
      "The equalibrium temperature of the planet is 254.58 K\n"
     ]
    }
   ],
   "source": [
    "# lets print out the result\n",
    "print(f\"The equalibrium temperature of the planet is {Teq:0.2f} K\")"
   ]
  },
  {
   "cell_type": "markdown",
   "id": "982f4690-4412-4166-afc5-6e2c63df4083",
   "metadata": {},
   "source": [
    "#### does this seem correct?\n",
    "\n",
    "If we convert our answer to Celcius we get an answer for the global average equalibrium temperature of -18.6$^{\\circ}$C. This is clearly too cold so whats wrong with our model? Our primary assumption is that the Earth is behaving as a perfect blackbody. In reality this is not true, and we actually need to consider another variable known as the emissivity. Emissivity is defined as the ratio of the energy radiated from a material's surface to that radiated from a perfect emitter (i.e. a blackbody), at the same temperature and wavelength and under the same viewing conditions. It is a dimensionless number between 0 (for a perfect reflector) and 1 (for a perfect emitter). Below is an example of global emissivity maps as a function of season, for (a) winter, (b) spring, (c) summer, and (d) autumn calculated from NCEP reanalysis (credit Figure 1 from Morales-Salinas et al., (2023)). \n"
   ]
  },
  {
   "cell_type": "markdown",
   "id": "d07109b3-084f-4bd0-a6f9-df3050a8172c",
   "metadata": {},
   "source": [
    "![emissvity example](img/emissivity_maps.png)"
   ]
  },
  {
   "cell_type": "markdown",
   "id": "f95cdd9a-0b08-444c-b550-e1541de9a593",
   "metadata": {},
   "source": [
    "So how do we include emissivity? Becuase emissivity describes the effectiveness of a blackbody radiator we add it to the term for terrestial output term:"
   ]
  },
  {
   "cell_type": "markdown",
   "id": "d55b2acd-59a6-40a5-a4c5-cbe5528e9bb0",
   "metadata": {},
   "source": [
    "![zero dim ebm with emissivity](img/zero_dim_ebm_visual_maths_step3.png)"
   ]
  },
  {
   "cell_type": "markdown",
   "id": "87eba519-724f-4ed6-a572-4b00153663a4",
   "metadata": {},
   "source": [
    "So we now include a term that adjusts the OLR based how efficient balckbody we assume the Earth to be. Lets update our previous model to take this into account and see what the implications are:"
   ]
  },
  {
   "cell_type": "code",
   "execution_count": 6,
   "id": "8b908789-a864-452b-968d-1c728f4364b5",
   "metadata": {},
   "outputs": [],
   "source": [
    "def zero_dimensional_ebm_v2(S,alpha, emiss):\n",
    "    \"\"\" The updated version of our zero dimensional energy balance model.\n",
    "    inputs:  S     -> solar constant (W/m^2)\n",
    "             alpha -> albedo (unitless)\n",
    "             emiss -> emissivity (unitless) [*new term]\n",
    "             \n",
    "    outputs: Teq  -> planetary equalibirum temperaturein (K)\n",
    "    \"\"\"\n",
    "    # define constants\n",
    "    sigma = 5.67e-8 # W m-2 k-4 Stefan-Boltzmann\n",
    "    \n",
    "    # calculate and return equalibrium temperature\n",
    "    return ((S*(1-alpha))/(4*emiss*sigma))**0.25 "
   ]
  },
  {
   "cell_type": "markdown",
   "id": "26c4ad84-c233-4d02-b90b-3ab4d753f544",
   "metadata": {},
   "source": [
    "For our purposes we will assume an emissivity for earth of 0.57, now we can rerun the previous calculation with our updated model:"
   ]
  },
  {
   "cell_type": "code",
   "execution_count": 84,
   "id": "b1aaf392-a18e-434e-8703-5eac105926b6",
   "metadata": {},
   "outputs": [
    {
     "name": "stdout",
     "output_type": "stream",
     "text": [
      "The equalibrium temperature of the planet is 292.99 K\n"
     ]
    }
   ],
   "source": [
    "# claculate the equalibrium temperature using our updated model\n",
    "Teff = zero_dimensional_ebm_v2(1361,0.3,0.57)\n",
    "\n",
    "# lets print out the result\n",
    "print(f\"The equalibrium temperature of the planet is {Teff:0.2f} K\")"
   ]
  },
  {
   "cell_type": "markdown",
   "id": "feb661be-42a0-46b7-a87a-219977ed9705",
   "metadata": {},
   "source": [
    "This answer looks better, now our global average equalibrium temperature of 19.8$^{\\circ}$C. **Recap:** The equilibrium temperature is the (theoretical) blackbody temperature at which emitted (long wave) radiation equals absorbed solar (shortwave) radiation emitted by is parent star. Assumptions from our model: \n",
    "1. Both the albedo $\\alpha$ & emissivity $\\epsilon$ are spatially & temporally uniform,\n",
    "2. $\\alpha$ & $\\epsilon$ are not functions of $\\lambda$, and\n",
    "3. the planet has no atmosphere.\n",
    "\n",
    "#### Effective planetary temperature\n",
    "Planets may have internal heat sources or experience tidal heating. The effective temperature of a planet is the (blackbody) temperature corresponding to the long-wave radiation which it emits. Therefore, if a planet is only heated by via solar radiation from its parent star then:\n",
    "\n",
    "### $T_{eff} = T_{eq}$\n",
    "\n",
    "Differences between $T_{eff}$ and $T_{eq}$ can thus provide information on a planet’s characteristics\n",
    "- Earth $T_{eff} = T_{eq}$\n",
    "- Jupiter $T_{eff} \\neq T_{eq}$"
   ]
  },
  {
   "cell_type": "markdown",
   "id": "939d2000-adf7-417c-bbba-eb14a9412318",
   "metadata": {},
   "source": [
    "#### Radiative criteria for a habitable planet\n",
    "Consider any given planet with albedo $\\alpha$ and emissivity $\\epsilon$, that is at a distance $R$ from a star of radius $R_{star}$ and temperature $T_{star}$:\n",
    "- Condition for liquid water 273 K < $T_{eff}$ < 373 K\n",
    "- Minimum inner orbital radius: $T_{eff}$ < 373 K; planet not tidally locked\n",
    "\n",
    "### $R_{min} = \\sqrt[4]{\\frac{S(1-\\alpha)}{4\\epsilon \\sigma}} = \\sqrt[4]{\\frac{(\\sigma T^{2}_{star})(4\\pi R^{2}_{star})}{4\\pi R^{2}}\\frac{(1-\\alpha)}{4\\epsilon \\sigma}}$"
   ]
  },
  {
   "cell_type": "markdown",
   "id": "21921654-ee3a-4ee7-b4d4-e262b91c26e9",
   "metadata": {},
   "source": [
    "![habitable planet](img/radiative_criteria_habitable_planet.png)"
   ]
  },
  {
   "cell_type": "markdown",
   "id": "60629f97-3a79-4ffa-8f1d-ee7175ed65f9",
   "metadata": {},
   "source": [
    "***\n",
    "## Updating our model to consider an atmosphere"
   ]
  },
  {
   "cell_type": "markdown",
   "id": "97b424f3-a38b-4b47-9dd8-1a6de9a896ca",
   "metadata": {},
   "source": [
    "![single layer ebm](img/one_layer_ebm_example.png)"
   ]
  },
  {
   "cell_type": "markdown",
   "id": "607bdae8-61a3-4d6d-9282-eafbe8c23518",
   "metadata": {},
   "source": [
    "You can now see that we have two temperatures, the surface temperature ($T_{s}$), and the atmospheric slab temperature ($T_{A}$). We can now write the balance equations and solve for both temperatures:"
   ]
  },
  {
   "cell_type": "markdown",
   "id": "4fe99f83-ad6c-490f-b13e-e235a226ec7e",
   "metadata": {},
   "source": [
    "![single layer ebm](img/one_layer_ebm_example_step2.png)"
   ]
  },
  {
   "attachments": {},
   "cell_type": "markdown",
   "id": "ca0119dd-96c0-4874-9355-09e737d7c0ae",
   "metadata": {},
   "source": [
    "### Implications\n",
    "- $T_{A}$ is now the effective temperature of the Earth system\n",
    "- It is exactly the same as $T_{eff}$ in the absence of an atmosphere\n",
    "- The presence of a greenhouse gas (GHG) in atmosphere makes the Earth’s surface warmer but does not modify the total outgoing LW emissions back to space\n",
    "- Outgoing LW radiation emissions only depend on $S$ and $\\alpha$\n",
    "- $T_{s}$ > $T_{A}$ is always true (perfect balckbody case, i.e. $\\epsilon_{s} = \\epsilon_{A} = 1$)\n"
   ]
  },
  {
   "cell_type": "markdown",
   "id": "f2d668d3-205f-47ce-93ba-9745de27d51d",
   "metadata": {},
   "source": [
    "Now we can revise our model to account for the atmospheric slab layer"
   ]
  },
  {
   "cell_type": "code",
   "execution_count": 8,
   "id": "f03ffaf4-e934-4b78-b9a7-540137833675",
   "metadata": {},
   "outputs": [],
   "source": [
    "def zero_dimensional_ebm_one_layer_atm(S,alpha, es, ea):\n",
    "    \"\"\" The updated version of our zero dimensional energy balance model.\n",
    "    inputs:  S     -> solar constant (W/m^2)\n",
    "             alpha -> albedo (unitless)\n",
    "             es    -> surface emissivity (unitless)\n",
    "             ea    -> atmosphere emisivity (unitless)\n",
    "             \n",
    "    outputs: Ta  -> planetary atmospheric temperature (K)\n",
    "             Ts  -> planetary surface temperature (K)\n",
    "    \"\"\"\n",
    "    # define constants\n",
    "    sigma = 5.67e-8 # W m-2 k-4 Stefan-Boltzmann\n",
    "    \n",
    "    # calculate atmospheric temperature\n",
    "    Ta = ((S*(1-alpha))/(4*sigma*ea))**0.25\n",
    "\n",
    "    # calculate surface temperature\n",
    "    Ts = Ta*(2*(ea/es))**0.25\n",
    "\n",
    "    # return results\n",
    "    return Ta, Ts"
   ]
  },
  {
   "cell_type": "markdown",
   "id": "31749fe0-8acc-4f41-9949-a445ae7ebe69",
   "metadata": {},
   "source": [
    "lets calculate the two temperatures based off our assumptions"
   ]
  },
  {
   "cell_type": "code",
   "execution_count": 9,
   "id": "ed8210ae-c97c-42e6-b235-6609d13854ab",
   "metadata": {},
   "outputs": [
    {
     "name": "stdout",
     "output_type": "stream",
     "text": [
      "Atmospheric temperature = 254.58 K\n",
      "Surface temperature = 302.75 K\n"
     ]
    }
   ],
   "source": [
    "# assumptions\n",
    "ea = 1\n",
    "es = 1\n",
    "S = 1361 # W/m^2\n",
    "alpha = 0.3\n",
    "\n",
    "# calculate Ta and Ts\n",
    "Ta, Ts = zero_dimensional_ebm_one_layer_atm(S,alpha, es, ea)\n",
    "\n",
    "# print results\n",
    "print(f\"Atmospheric temperature = {Ta:0.2f} K\")\n",
    "print(f\"Surface temperature = {Ts:0.2f} K\")\n"
   ]
  },
  {
   "cell_type": "markdown",
   "id": "b9a0e0a6-d6ad-44e8-ab96-fef7a0d3e5ed",
   "metadata": {},
   "source": [
    "We can now investigate the whether the surface temperature is always warmer than the atmopshere when albedo and the solar constant vary. The one layer atmosphere model can be placed in a loop where we iterate over a variety of albedo and solar constant values. First we will define the range of values for these variables:"
   ]
  },
  {
   "cell_type": "code",
   "execution_count": 85,
   "id": "7d02a676-56d6-4eb8-abb6-e0839306ec66",
   "metadata": {},
   "outputs": [],
   "source": [
    "albedos = np.arange(100)*0.01+0.01\n",
    "Svals = np.arange(81)-40+1361"
   ]
  },
  {
   "cell_type": "markdown",
   "id": "d539fc31-1b2e-4362-ae7b-ad3b5a24bc69",
   "metadata": {},
   "source": [
    "Next we define an array using numpy to hold our results of our temperature differences ($T_{s} - T_{A}$). We will use the the ``np.full``  method, where provide a tuple containing the dimensions and a default value to fill it with. We will use ``np.nan`` or not a number (NaN):"
   ]
  },
  {
   "cell_type": "code",
   "execution_count": 87,
   "id": "f2a15f0c-1667-478d-a72c-7aa84fc40ee6",
   "metadata": {},
   "outputs": [],
   "source": [
    "# our array is 2D (number of albedo points x number of solar points), we call dT as it will hold temperature differences\n",
    "dT = np.full((100,81),np.nan)"
   ]
  },
  {
   "cell_type": "markdown",
   "id": "4f811c12-48dc-46b2-bd34-b95e4d15d8f0",
   "metadata": {},
   "source": [
    "Finally we loop over each dimension and calculate the temperature difference using our one layer atmosphere model"
   ]
  },
  {
   "cell_type": "code",
   "execution_count": 88,
   "id": "2f84638e-905b-4046-b9b9-8c08ac45b700",
   "metadata": {},
   "outputs": [
    {
     "data": {
      "text/plain": [
       "<matplotlib.colorbar.Colorbar at 0x22acafc5220>"
      ]
     },
     "execution_count": 88,
     "metadata": {},
     "output_type": "execute_result"
    },
    {
     "data": {
      "image/png": "[encoded data removed]",
      "text/plain": [
       "<Figure size 640x480 with 2 Axes>"
      ]
     },
     "metadata": {},
     "output_type": "display_data"
    }
   ],
   "source": [
    "# in this loop we get a counter ii (integer 0-79, and the corresponding S value)\n",
    "for ii, S in enumerate(Svals):\n",
    "    # in this loop we get a counter jj (integer 0-99, and the corresponding albedo value)\n",
    "    for jj, alpha in enumerate(albedos):\n",
    "        # calculate Ts and Ta, ea and es are bsame as before (ea=es=1) \n",
    "        Ta, Ts = zero_dimensional_ebm_one_layer_atm(S,alpha, es, ea)\n",
    "        # add temperature difference to results array\n",
    "        dT[jj,ii] = Ts-Ta \n",
    "\n",
    "# lets make a simple plot to visualise the result\n",
    "plt.contourf(Svals, albedos, dT, 14,cmap='plasma')\n",
    "plt.ylabel(\"Albedo [-]\")\n",
    "plt.xlabel(\"Solar Constant [W/m$^{2}$]\")\n",
    "plt.title(r\"T$_{s}$ - T$_{A}$ [K]\")\n",
    "plt.colorbar()"
   ]
  },
  {
   "cell_type": "markdown",
   "id": "842c9d08-5e24-448f-86f5-dddc565800e6",
   "metadata": {},
   "source": [
    "***\n",
    "## Updating our model to consider an atmosphere with two layers"
   ]
  },
  {
   "cell_type": "markdown",
   "id": "2ab79c3a-0773-4396-b11c-2bd7f4144753",
   "metadata": {},
   "source": [
    "![two atm layer ebm](img/two_layer_ebm_example.png)"
   ]
  },
  {
   "cell_type": "markdown",
   "id": "0d41910c-1aae-477b-9531-2d4bf878b9b8",
   "metadata": {},
   "source": [
    "You can now see that we have two temperatures, the surface temperature ($T_{s}$), and the atmospheric slab temperatures for layers 1 and 2 ($T_{A1}, T_{A2}$ respectively). We can now write the balance equations and solve for both temperatures:"
   ]
  },
  {
   "cell_type": "markdown",
   "id": "480eebb7-e0d2-43c3-8471-804a46bcfea4",
   "metadata": {},
   "source": [
    "![two atm layer step 2](img/two_layer_ebm_example_step2.png)"
   ]
  },
  {
   "cell_type": "markdown",
   "id": "9a0fd04e-7547-4e82-8d19-b06db950095c",
   "metadata": {},
   "source": [
    "### Implications\n",
    "- $T_{A1}$ is now the effective temperature of the Earth system\n",
    "- It is exactly the same as $T_{eff}$ in the absence of an atmosphere\n",
    "- The presence of an additional GHG layer in atmosphere makes the Earth’s surface warmer but does not modify the total outgoing LW emissions back to space\n",
    "- $T_{s}$ > $T_{A1}$ > $T_{A2}$ is always true $\\rightarrow$ temperature decreases with height (perfect balckbody case, i.e. $\\epsilon_{s} = \\epsilon_{A1} = \\epsilon_{A2} = 1$)\n"
   ]
  },
  {
   "cell_type": "markdown",
   "id": "49092afb-d59f-4b47-ac4b-a8a32f0a4bc2",
   "metadata": {},
   "source": [
    "Now we can revise our model to account for both the atmospheric slab layers"
   ]
  },
  {
   "cell_type": "code",
   "execution_count": 11,
   "id": "4f9ef29d-f286-4fa8-aabf-d7363a26caf9",
   "metadata": {},
   "outputs": [],
   "source": [
    "def zero_dimensional_ebm_two_layer_atm(S,alpha, es, ea1, ea2):\n",
    "    \"\"\" The updated version of our zero dimensional energy balance model.\n",
    "    inputs:  S     -> solar constant (W/m^2)\n",
    "             alpha -> albedo (unitless)\n",
    "             es    -> surface emissivity (unitless)\n",
    "             ea1    -> atmosphere layer 1 emisivity (unitless)\n",
    "             ea2    -> atmosphere layer 1 emisivity (unitless)\n",
    "             \n",
    "    outputs: Ta1  -> planetary atmospheric layer one temperature (K)\n",
    "             Ta2  -> planetary atmospheric layer two temperature (K)\n",
    "             Ts  -> planetary surface temperature (K)\n",
    "    \"\"\"\n",
    "    # define constants\n",
    "    sigma = 5.67e-8 # W m-2 k-4 Stefan-Boltzmann\n",
    "    \n",
    "    # calculate atmospheric layer 2 temperature\n",
    "    Ta2 = ((S*(1-alpha))/(4*sigma*ea2))**0.25\n",
    "\n",
    "    # calculate atmospheric layer 1 temperature\n",
    "    Ta1 = Ta2*(2*(ea2/ea1))**0.25\n",
    "\n",
    "    # calculate surface temperature\n",
    "    Ts = Ta2*(3*(ea2/es))**0.25\n",
    "\n",
    "    # return results\n",
    "    return Ta1, Ta2, Ts"
   ]
  },
  {
   "cell_type": "markdown",
   "id": "f3bd1239-9185-4441-9e7d-145ee116b623",
   "metadata": {},
   "source": [
    "Now we can calculate the three temperatures usinbg the updated model:"
   ]
  },
  {
   "cell_type": "code",
   "execution_count": 12,
   "id": "fc627cc6-65c1-466c-94b6-ac6654cb3885",
   "metadata": {},
   "outputs": [
    {
     "name": "stdout",
     "output_type": "stream",
     "text": [
      "Atmospheric layer 2 temperature = 254.58 K\n",
      "Atmospheric layer 1 temperature = 302.75 K\n",
      "Surface temperature = 335.05 K\n"
     ]
    }
   ],
   "source": [
    "# assumptions\n",
    "ea1 = 1\n",
    "ea2 = 1\n",
    "es = 1\n",
    "S = 1361 # W/m^2\n",
    "alpha = 0.3\n",
    "\n",
    "# calculate Ta1, Ta2, and Ts\n",
    "Ta1, Ta2, Ts = zero_dimensional_ebm_two_layer_atm(S,alpha, es, ea1, ea2)\n",
    "\n",
    "# print results\n",
    "print(f\"Atmospheric layer 2 temperature = {Ta2:0.2f} K\")\n",
    "print(f\"Atmospheric layer 1 temperature = {Ta1:0.2f} K\")\n",
    "print(f\"Surface temperature = {Ts:0.2f} K\")"
   ]
  },
  {
   "cell_type": "markdown",
   "id": "f089870a-3448-4eac-b10f-7dddf6723063",
   "metadata": {},
   "source": [
    "We can see that the temperature is warmest in the surface layer and coldest for the 2$^{nd}$ atmospheric slab layer, as expected. However, does $T_{A2}$ look familar? we know that in this model the 2nd atmospheric slab temperature is equivilent to the effective planetary temperature and is the same result we saw from our first model. Therefore, the we can see from our model experiments an example of how greenhouse gaes impact planetary temperatures, e.g. warming the surface."
   ]
  },
  {
   "cell_type": "markdown",
   "id": "160b9173-ca6f-403f-a352-4436f5182651",
   "metadata": {},
   "source": [
    "***\n",
    "Next we look at a different way of represnting greenhouse gases in the atmosphere by looking at another concept, the N-layer model. "
   ]
  },
  {
   "cell_type": "markdown",
   "id": "0d672b31-d165-48d7-9586-9cf8d8a712a6",
   "metadata": {},
   "source": [
    "![many layer ebm](img/many_layer_ebm_example.png)"
   ]
  },
  {
   "cell_type": "markdown",
   "id": "c8ca23a3-f3f1-48a7-b25e-b3705e2e6309",
   "metadata": {},
   "source": [
    "### What does n represent?"
   ]
  },
  {
   "cell_type": "markdown",
   "id": "0ca645e6-f004-4f5d-bc1b-8d40d2bc5270",
   "metadata": {},
   "source": [
    "# Experiment: The Time Dependent Zero Dimensional N-Layer Energy Balance Model\n",
    "Starting from our original model of Arriving Shrotwave radiation ($ASR$) and Outgoing Longwave Radiation ($OLR$):\n",
    "## $ASR = OLR$"
   ]
  },
  {
   "cell_type": "markdown",
   "id": "52276fe8-3485-460d-b273-5b73113f50b1",
   "metadata": {},
   "source": [
    "### Defining our functions for ASR and OLR\n",
    "We need to first redefine the our expression for the Outgoing Longwave Radiation based on the earlier equuation for the N-layer  model. Our previous definition is:\n",
    "### $OLR = \\epsilon \\sigma T^{4}$\n",
    "To include ou 'n' term we update our defintion like this:\n",
    "### $OLR = \\frac{\\epsilon \\sigma T^{4}}{(n+1)}$\n",
    "What you notice is that the $(n+1)$ term essentially scales the OLR, which will have the effect of modulating the temperature similar to how greenhouse gases work. For ASR we use the solar insolation ($Q$) inplace of the solar constant ($S$), where $Q=\\frac{S}{4}$. So the ASR becomes:\n",
    "### $ASR = Q(1-\\alpha)$\n",
    "Lets look at these equations for ASR and OLR coded up in Python:"
   ]
  },
  {
   "cell_type": "code",
   "execution_count": 91,
   "id": "2955580a-2ae8-4be5-ba2b-35654e25ff30",
   "metadata": {},
   "outputs": [],
   "source": [
    "# define a function for outgoing longwave radiation (OLR)\n",
    "def OLR(Ts, emiss, NL):\n",
    "    \"\"\" Calculate Outgoing Longwave Radiation (OLR)\n",
    "    inputs: Ts    -> surface temperature (K)\n",
    "            emiss -> emissivity (unitless)\n",
    "            NL    -> number of layers (unitless)\n",
    "\n",
    "    outputs: OLR -> outgoing longwave radiation (W/m^2)\n",
    "    \"\"\"\n",
    "    # define the Stefan-Boltzmann Constant, noting we are using 'e' for scientific notation\n",
    "    sigma = 5.67e-8  # W m^-2 K^-4\n",
    "    return (emiss * sigma * (Ts**4))/(NL+1)\n",
    "\n",
    "# define a function for absorbed shortwave radiation (ASR), here you can see we now use the\n",
    "# solar insolation (Q) in place of the solar constant (S). essentially:\n",
    "# Q = S/4\n",
    "def ASR(Q, alpha):\n",
    "    \"\"\" Calculate Arriving Shortwave Radiation (ASR)\n",
    "    inputs: Q     -> solar insolation (W/m^2) => S/4 \n",
    "            alpha -> albedo (unitless)\n",
    "    \n",
    "    outputs: ASR  -> arriving shortwave radiation (W/m^2)\n",
    "    \"\"\"\n",
    "    return (1 - alpha) * Q"
   ]
  },
  {
   "cell_type": "markdown",
   "id": "f2816f2b-43b8-4764-acf0-9e9db0bae48a",
   "metadata": {},
   "source": [
    "The simplest model we can make for energy balance assumes the rate of temperature change is proportional to the imposed energy imbalance:\n",
    "## $C\\frac{dT}{dt} = ASR - OLR$\n",
    "Where $C$ is the heat capacity in the system, $\\frac{dT}{dt}$ is the rate of change in the temperature. In oder to solve this using Python, we can replace the differentials in our model with the **finite differences** thus:\n",
    "## $C\\frac{\\Delta T}{\\Delta t} \\approx ASR - OLR$\n",
    "where $\\Delta T = T_{n+1} - T_{n}$ and $\\Delta t = t_{n+1} - t_{n}.$\n",
    "### Assumptions:\n",
    "- We are always dealing with discrete quantites.\n",
    "- we can approximate the derivative $\\frac{\\Delta T}{\\Delta t}$ such that the time step $\\Delta t$ is valid and useful."
   ]
  },
  {
   "cell_type": "markdown",
   "id": "7295b329-6ddd-4326-84e1-2b3b3ce1610c",
   "metadata": {},
   "source": [
    "## Time stepping within the model\n",
    "Now we take the next step to establish how we can calculate future temperatures. Our starting point is our current definition of the model:\n",
    "## $C\\frac{T_{n+1} - T_{n}}{\\Delta t} = ASR - OLR$\n",
    "The approach we are taking to define the time and temperature interval changes is known as **discretization**. This allows us to rearrange and solve for the **future** temperature:\n",
    "## $T_{n+1} = T_{n} + \\frac{\\Delta t}{C}(ASR - OLR(T_{n}))$\n",
    "where $\\Delta t$ is known as the **timestep** and OLR uses the current temperature to calculate the future temperature. Here we are applying the **Forward Euler method** to solve for $T_{n+1}$. You will notice we have not reffered to the effective temperature here as we did with our non-time dependent version. We now will think of the temperature as the surface temperature. In our new model if $T_{n} < T_{eff}$ then the system should warm and if $T_{n} > T_{eff}$ then the system should cool. With that in mind lets begin constructuing our model."
   ]
  },
  {
   "cell_type": "code",
   "execution_count": 92,
   "id": "45b7f1a0-710b-425c-bba3-9abb128d01a2",
   "metadata": {},
   "outputs": [],
   "source": [
    "# create a function to find the new temperature based on the previous using Euler's method\n",
    "def step_forward(S, Ts, alpha, emiss, dt, NL):\n",
    "    \"\"\" Apply Euler method to calculate new temperature based on previous time step.\n",
    "    inputs: S     -> solar constant (W/m^2)\n",
    "            Ts    -> surface temperature (K)\n",
    "            alpha -> albedo (unitless)\n",
    "            emiss -> emissivity (unitless)\n",
    "            dt    -> time step (seconds)\n",
    "            NL    -> number of layers\n",
    "\n",
    "    outputs: Ts   -> new surface temperaturein time step\n",
    "    \"\"\"\n",
    "    c_w = 4E3  #  Specific heat of water in J/kg/K\n",
    "    rho_w = 1E3  #  Density of water in kg/m3\n",
    "    H = 100.   #  Depth of water in m\n",
    "    C = c_w * rho_w * H   #  Heat capacity of the model\n",
    "\n",
    "    \n",
    "    return Ts + dt / C * ( ASR(S, alpha) - OLR(Ts, emiss, NL) )"
   ]
  },
  {
   "cell_type": "markdown",
   "id": "2e9b7470-cd2c-44a9-b8ed-906284b13b70",
   "metadata": {},
   "source": [
    "## Running experiments with our new model\n",
    "Next we need a piece of code that will run experiments that we design. This is done using a python function which takes in some input variables and returns"
   ]
  },
  {
   "cell_type": "code",
   "execution_count": 93,
   "id": "92e7e3c9-e932-4d8c-a1d3-e3d9311c597b",
   "metadata": {},
   "outputs": [],
   "source": [
    "# run ebm experiment\n",
    "def run_time_dependent_zero_dim_ebm(Q, alpha, emiss, dt, numsteps,T0, NL):\n",
    "    \"\"\" Apply Euler method to calculate new temperature based on previous time step.\n",
    "    inputs: Q     -> solar insolation (W/m^2)\n",
    "            Ts    -> surface temperature (K)\n",
    "            alpha -> albedo (unitless)\n",
    "            emiss -> emissivity (unitless)\n",
    "            dt    -> time step (seconds)\n",
    "            NL    -> number of layers\n",
    "\n",
    "    outputs: Years  -> array holding experiment year number\n",
    "             Tsteps -> array holding Ts for each time step (K)\n",
    "    \"\"\"\n",
    "    \n",
    "    # initialise arrays to hold results\n",
    "    Tsteps = np.zeros(numsteps+1)\n",
    "    Years = np.zeros(numsteps+1)\n",
    "    # set the first value to be the temperature in balance using Zero Dim EBM\n",
    "    # i.e. ASR = OLR, therfore Ts = (Q*(1-alpha)/(emiss*sigma))**0.25\n",
    "    Tsteps[0] = T0\n",
    "\n",
    "    # loop over each year and calculate new surface temperature\n",
    "    for n in range(numsteps):\n",
    "        Years[n+1] = n+1\n",
    "        Tsteps[n+1] = step_forward(Q, Tsteps[n], alpha, emiss ,dt,NL[n+1])\n",
    "\n",
    "    return Years, Tsteps"
   ]
  },
  {
   "cell_type": "markdown",
   "id": "28d5dc59-7d65-46e4-a46d-caea96f323c4",
   "metadata": {},
   "source": [
    "#### Define some initail asumptions that will be applied to all experiemnts"
   ]
  },
  {
   "cell_type": "code",
   "execution_count": 94,
   "id": "1fa739cc-ca51-4631-8b5a-7cec37fe5f8a",
   "metadata": {},
   "outputs": [],
   "source": [
    "# define the time interval, currently one year expressed in seconds\n",
    "dt = 60.0 * 60.0 * 24.0 * 365.0 # seconds in 1 year\n",
    "\n",
    "# define albedo \n",
    "alpha = 0.3\n",
    "\n",
    "# define emissivity\n",
    "emiss = 1.0\n",
    "\n",
    "# define solar insolation\n",
    "S = 1361.0 # W/m^2\n",
    "Q = S/4\n",
    "\n",
    "# define number steps (e.g. number of years), total number of years = num steps + 1\n",
    "numsteps = 49"
   ]
  },
  {
   "cell_type": "markdown",
   "id": "e421918c-21f8-441f-82b5-eeeac276e2fc",
   "metadata": {},
   "source": [
    "First two experiments we will run two 50 year simulations where we will supply different values for 'n' to represent the amount of greenhouse gases in the atmosphere and look at the results"
   ]
  },
  {
   "cell_type": "code",
   "execution_count": 97,
   "id": "258e3d0f-5c73-4a46-9dfb-4f644d7fb1d1",
   "metadata": {},
   "outputs": [
    {
     "data": {
      "text/plain": [
       "<matplotlib.legend.Legend at 0x22acda33230>"
      ]
     },
     "execution_count": 97,
     "metadata": {},
     "output_type": "execute_result"
    },
    {
     "data": {
      "image/png": "[encoded data removed]",
      "text/plain": [
       "<Figure size 640x480 with 1 Axes>"
      ]
     },
     "metadata": {},
     "output_type": "display_data"
    }
   ],
   "source": [
    "# dfine a starting temperature\n",
    "T0 = 288 # K\n",
    "\n",
    "########################\n",
    "# EXP 1\n",
    "# define N layers\n",
    "NL = np.full(numsteps+1,0.65)\n",
    "\n",
    "# run the experiment\n",
    "Years, Texp1 = run_time_dependent_zero_dim_ebm(Q, alpha, emiss, dt, numsteps,T0,NL)\n",
    "\n",
    "########################\n",
    "# EXP 2\n",
    "# define N layers\n",
    "NL = np.full(numsteps+1,0.7)\n",
    "\n",
    "# run the experiment\n",
    "Years, Texp2 = run_time_dependent_zero_dim_ebm(Q, alpha, emiss, dt, numsteps,T0,NL)\n",
    "\n",
    "# make a simple plot the results\n",
    "plt.plot(Years, Texp1, label=\"n=0.65\")\n",
    "plt.plot(Years, Texp2, label=\"n=0.7\")\n",
    "\n",
    "plt.xlim(0,numsteps)\n",
    "plt.xlabel('Years')\n",
    "plt.ylabel('Global mean temperature (K)')\n",
    "plt.title(f\"{numsteps+1} year EBM simulation for Earth starting at {T0} K\")\n",
    "plt.legend(loc='best')"
   ]
  },
  {
   "cell_type": "markdown",
   "id": "c8055c76-e904-41ef-9142-6f1f8006d533",
   "metadata": {},
   "source": [
    "### What can we infer from this plot?\n",
    "***\n",
    "For our next experiments we look at two sceanrios where the n value increase over the 50 year period (proxy rising GHG concentrations) and the second where the n value reduces linearly (proxy for falling GHG concentrations).  "
   ]
  },
  {
   "cell_type": "code",
   "execution_count": 77,
   "id": "55d7a05e-05a8-4f51-88a4-098b517d3e66",
   "metadata": {},
   "outputs": [
    {
     "data": {
      "text/plain": [
       "Text(0.5, 1.0, '50 year EBM simulation for Earth starting at 288 K')"
      ]
     },
     "execution_count": 77,
     "metadata": {},
     "output_type": "execute_result"
    },
    {
     "data": {
      "image/png": "[encoded data removed]",
      "text/plain": [
       "<Figure size 640x480 with 1 Axes>"
      ]
     },
     "metadata": {},
     "output_type": "display_data"
    }
   ],
   "source": [
    "########################\n",
    "# EXP 3\n",
    "# define N layers\n",
    "NL = np.linspace(0.65, 0.7, numsteps+1)\n",
    "\n",
    "# run the experiment\n",
    "Years, Texp3 = run_time_dependent_zero_dim_ebm(Q, alpha, emiss, dt, numsteps,T0,NL)\n",
    "\n",
    "########################\n",
    "# EXP 4\n",
    "# define N layers\n",
    "NL = np.linspace(0.7, 0.65, numsteps+1)\n",
    "# run the experiment\n",
    "Years, Texp4 = run_time_dependent_zero_dim_ebm(Q, alpha, emiss, dt, numsteps,T0,NL)\n",
    "\n",
    "# make a simple plot the results\n",
    "plt.plot(Years, Texp3)\n",
    "plt.plot(Years, Texp4)\n",
    "plt.xlim(0,numsteps)\n",
    "plt.grid(True)\n",
    "plt.xlabel('Years')\n",
    "plt.ylabel('Global mean temperature (K)')\n",
    "plt.title(f\"{numsteps+1} year EBM simulation for Earth starting at {T0} K\")"
   ]
  },
  {
   "cell_type": "markdown",
   "id": "d549d10f-b679-4d1b-94a0-64b58f7853fe",
   "metadata": {},
   "source": [
    "### What can we infer from this plot? And how does it differ from the previous one?"
   ]
  },
  {
   "cell_type": "markdown",
   "id": "2c31df49-c79d-4c07-87ac-e40e13b6ebd7",
   "metadata": {},
   "source": [
    "***"
   ]
  },
  {
   "cell_type": "markdown",
   "id": "1174c7a5-beeb-42e1-a764-8c096c1a9fbd",
   "metadata": {},
   "source": [
    "![summary of session](img/lect3_cw1_summary.png)"
   ]
  }
 ],
 "metadata": {
  "kernelspec": {
   "display_name": "Python 3 (ipykernel)",
   "language": "python",
   "name": "python3"
  },
  "language_info": {
   "codemirror_mode": {
    "name": "ipython",
    "version": 3
   },
   "file_extension": ".py",
   "mimetype": "text/x-python",
   "name": "python",
   "nbconvert_exporter": "python",
   "pygments_lexer": "ipython3",
   "version": "3.12.3"
  }
 },
 "nbformat": 4,
 "nbformat_minor": 5
}
